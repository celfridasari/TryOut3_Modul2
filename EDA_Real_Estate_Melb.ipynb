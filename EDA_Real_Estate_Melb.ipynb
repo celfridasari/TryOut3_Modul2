{
  "nbformat": 4,
  "nbformat_minor": 0,
  "metadata": {
    "colab": {
      "name": "EDA_Real_Estate_Melb.ipynb",
      "provenance": [],
      "collapsed_sections": [
        "zDhXk4ktL1yx",
        "Z91oQz1dVegh",
        "yQCaqmY0WG9R",
        "ixH7ce8WfYVi",
        "Zqqey2R8kEVq",
        "C7nZ4-OZq8O5",
        "hcPHNZGgvhgF",
        "8pA13V3PCEeS"
      ]
    },
    "kernelspec": {
      "name": "python3",
      "display_name": "Python 3"
    },
    "language_info": {
      "name": "python"
    }
  },
  "cells": [
    {
      "cell_type": "markdown",
      "metadata": {
        "id": "zDhXk4ktL1yx"
      },
      "source": [
        "# Import Module & inisiasi data"
      ]
    },
    {
      "cell_type": "code",
      "metadata": {
        "id": "KLj-fcm_U7K8"
      },
      "source": [
        "#import library\n",
        "import numpy as np\n",
        "import pandas as pd\n",
        "import seaborn as sns\n",
        "import matplotlib.pyplot as plt\n",
        "from scipy import stats\n",
        "from scipy.stats import pearsonr\n",
        "from scipy.stats import spearmanr\n",
        "import statistics"
      ],
      "execution_count": 191,
      "outputs": []
    },
    {
      "cell_type": "code",
      "metadata": {
        "colab": {
          "resources": {
            "http://localhost:8080/nbextensions/google.colab/files.js": {
              "data": "Ly8gQ29weXJpZ2h0IDIwMTcgR29vZ2xlIExMQwovLwovLyBMaWNlbnNlZCB1bmRlciB0aGUgQXBhY2hlIExpY2Vuc2UsIFZlcnNpb24gMi4wICh0aGUgIkxpY2Vuc2UiKTsKLy8geW91IG1heSBub3QgdXNlIHRoaXMgZmlsZSBleGNlcHQgaW4gY29tcGxpYW5jZSB3aXRoIHRoZSBMaWNlbnNlLgovLyBZb3UgbWF5IG9idGFpbiBhIGNvcHkgb2YgdGhlIExpY2Vuc2UgYXQKLy8KLy8gICAgICBodHRwOi8vd3d3LmFwYWNoZS5vcmcvbGljZW5zZXMvTElDRU5TRS0yLjAKLy8KLy8gVW5sZXNzIHJlcXVpcmVkIGJ5IGFwcGxpY2FibGUgbGF3IG9yIGFncmVlZCB0byBpbiB3cml0aW5nLCBzb2Z0d2FyZQovLyBkaXN0cmlidXRlZCB1bmRlciB0aGUgTGljZW5zZSBpcyBkaXN0cmlidXRlZCBvbiBhbiAiQVMgSVMiIEJBU0lTLAovLyBXSVRIT1VUIFdBUlJBTlRJRVMgT1IgQ09ORElUSU9OUyBPRiBBTlkgS0lORCwgZWl0aGVyIGV4cHJlc3Mgb3IgaW1wbGllZC4KLy8gU2VlIHRoZSBMaWNlbnNlIGZvciB0aGUgc3BlY2lmaWMgbGFuZ3VhZ2UgZ292ZXJuaW5nIHBlcm1pc3Npb25zIGFuZAovLyBsaW1pdGF0aW9ucyB1bmRlciB0aGUgTGljZW5zZS4KCi8qKgogKiBAZmlsZW92ZXJ2aWV3IEhlbHBlcnMgZm9yIGdvb2dsZS5jb2xhYiBQeXRob24gbW9kdWxlLgogKi8KKGZ1bmN0aW9uKHNjb3BlKSB7CmZ1bmN0aW9uIHNwYW4odGV4dCwgc3R5bGVBdHRyaWJ1dGVzID0ge30pIHsKICBjb25zdCBlbGVtZW50ID0gZG9jdW1lbnQuY3JlYXRlRWxlbWVudCgnc3BhbicpOwogIGVsZW1lbnQudGV4dENvbnRlbnQgPSB0ZXh0OwogIGZvciAoY29uc3Qga2V5IG9mIE9iamVjdC5rZXlzKHN0eWxlQXR0cmlidXRlcykpIHsKICAgIGVsZW1lbnQuc3R5bGVba2V5XSA9IHN0eWxlQXR0cmlidXRlc1trZXldOwogIH0KICByZXR1cm4gZWxlbWVudDsKfQoKLy8gTWF4IG51bWJlciBvZiBieXRlcyB3aGljaCB3aWxsIGJlIHVwbG9hZGVkIGF0IGEgdGltZS4KY29uc3QgTUFYX1BBWUxPQURfU0laRSA9IDEwMCAqIDEwMjQ7CgpmdW5jdGlvbiBfdXBsb2FkRmlsZXMoaW5wdXRJZCwgb3V0cHV0SWQpIHsKICBjb25zdCBzdGVwcyA9IHVwbG9hZEZpbGVzU3RlcChpbnB1dElkLCBvdXRwdXRJZCk7CiAgY29uc3Qgb3V0cHV0RWxlbWVudCA9IGRvY3VtZW50LmdldEVsZW1lbnRCeUlkKG91dHB1dElkKTsKICAvLyBDYWNoZSBzdGVwcyBvbiB0aGUgb3V0cHV0RWxlbWVudCB0byBtYWtlIGl0IGF2YWlsYWJsZSBmb3IgdGhlIG5leHQgY2FsbAogIC8vIHRvIHVwbG9hZEZpbGVzQ29udGludWUgZnJvbSBQeXRob24uCiAgb3V0cHV0RWxlbWVudC5zdGVwcyA9IHN0ZXBzOwoKICByZXR1cm4gX3VwbG9hZEZpbGVzQ29udGludWUob3V0cHV0SWQpOwp9CgovLyBUaGlzIGlzIHJvdWdobHkgYW4gYXN5bmMgZ2VuZXJhdG9yIChub3Qgc3VwcG9ydGVkIGluIHRoZSBicm93c2VyIHlldCksCi8vIHdoZXJlIHRoZXJlIGFyZSBtdWx0aXBsZSBhc3luY2hyb25vdXMgc3RlcHMgYW5kIHRoZSBQeXRob24gc2lkZSBpcyBnb2luZwovLyB0byBwb2xsIGZvciBjb21wbGV0aW9uIG9mIGVhY2ggc3RlcC4KLy8gVGhpcyB1c2VzIGEgUHJvbWlzZSB0byBibG9jayB0aGUgcHl0aG9uIHNpZGUgb24gY29tcGxldGlvbiBvZiBlYWNoIHN0ZXAsCi8vIHRoZW4gcGFzc2VzIHRoZSByZXN1bHQgb2YgdGhlIHByZXZpb3VzIHN0ZXAgYXMgdGhlIGlucHV0IHRvIHRoZSBuZXh0IHN0ZXAuCmZ1bmN0aW9uIF91cGxvYWRGaWxlc0NvbnRpbnVlKG91dHB1dElkKSB7CiAgY29uc3Qgb3V0cHV0RWxlbWVudCA9IGRvY3VtZW50LmdldEVsZW1lbnRCeUlkKG91dHB1dElkKTsKICBjb25zdCBzdGVwcyA9IG91dHB1dEVsZW1lbnQuc3RlcHM7CgogIGNvbnN0IG5leHQgPSBzdGVwcy5uZXh0KG91dHB1dEVsZW1lbnQubGFzdFByb21pc2VWYWx1ZSk7CiAgcmV0dXJuIFByb21pc2UucmVzb2x2ZShuZXh0LnZhbHVlLnByb21pc2UpLnRoZW4oKHZhbHVlKSA9PiB7CiAgICAvLyBDYWNoZSB0aGUgbGFzdCBwcm9taXNlIHZhbHVlIHRvIG1ha2UgaXQgYXZhaWxhYmxlIHRvIHRoZSBuZXh0CiAgICAvLyBzdGVwIG9mIHRoZSBnZW5lcmF0b3IuCiAgICBvdXRwdXRFbGVtZW50Lmxhc3RQcm9taXNlVmFsdWUgPSB2YWx1ZTsKICAgIHJldHVybiBuZXh0LnZhbHVlLnJlc3BvbnNlOwogIH0pOwp9CgovKioKICogR2VuZXJhdG9yIGZ1bmN0aW9uIHdoaWNoIGlzIGNhbGxlZCBiZXR3ZWVuIGVhY2ggYXN5bmMgc3RlcCBvZiB0aGUgdXBsb2FkCiAqIHByb2Nlc3MuCiAqIEBwYXJhbSB7c3RyaW5nfSBpbnB1dElkIEVsZW1lbnQgSUQgb2YgdGhlIGlucHV0IGZpbGUgcGlja2VyIGVsZW1lbnQuCiAqIEBwYXJhbSB7c3RyaW5nfSBvdXRwdXRJZCBFbGVtZW50IElEIG9mIHRoZSBvdXRwdXQgZGlzcGxheS4KICogQHJldHVybiB7IUl0ZXJhYmxlPCFPYmplY3Q+fSBJdGVyYWJsZSBvZiBuZXh0IHN0ZXBzLgogKi8KZnVuY3Rpb24qIHVwbG9hZEZpbGVzU3RlcChpbnB1dElkLCBvdXRwdXRJZCkgewogIGNvbnN0IGlucHV0RWxlbWVudCA9IGRvY3VtZW50LmdldEVsZW1lbnRCeUlkKGlucHV0SWQpOwogIGlucHV0RWxlbWVudC5kaXNhYmxlZCA9IGZhbHNlOwoKICBjb25zdCBvdXRwdXRFbGVtZW50ID0gZG9jdW1lbnQuZ2V0RWxlbWVudEJ5SWQob3V0cHV0SWQpOwogIG91dHB1dEVsZW1lbnQuaW5uZXJIVE1MID0gJyc7CgogIGNvbnN0IHBpY2tlZFByb21pc2UgPSBuZXcgUHJvbWlzZSgocmVzb2x2ZSkgPT4gewogICAgaW5wdXRFbGVtZW50LmFkZEV2ZW50TGlzdGVuZXIoJ2NoYW5nZScsIChlKSA9PiB7CiAgICAgIHJlc29sdmUoZS50YXJnZXQuZmlsZXMpOwogICAgfSk7CiAgfSk7CgogIGNvbnN0IGNhbmNlbCA9IGRvY3VtZW50LmNyZWF0ZUVsZW1lbnQoJ2J1dHRvbicpOwogIGlucHV0RWxlbWVudC5wYXJlbnRFbGVtZW50LmFwcGVuZENoaWxkKGNhbmNlbCk7CiAgY2FuY2VsLnRleHRDb250ZW50ID0gJ0NhbmNlbCB1cGxvYWQnOwogIGNvbnN0IGNhbmNlbFByb21pc2UgPSBuZXcgUHJvbWlzZSgocmVzb2x2ZSkgPT4gewogICAgY2FuY2VsLm9uY2xpY2sgPSAoKSA9PiB7CiAgICAgIHJlc29sdmUobnVsbCk7CiAgICB9OwogIH0pOwoKICAvLyBXYWl0IGZvciB0aGUgdXNlciB0byBwaWNrIHRoZSBmaWxlcy4KICBjb25zdCBmaWxlcyA9IHlpZWxkIHsKICAgIHByb21pc2U6IFByb21pc2UucmFjZShbcGlja2VkUHJvbWlzZSwgY2FuY2VsUHJvbWlzZV0pLAogICAgcmVzcG9uc2U6IHsKICAgICAgYWN0aW9uOiAnc3RhcnRpbmcnLAogICAgfQogIH07CgogIGNhbmNlbC5yZW1vdmUoKTsKCiAgLy8gRGlzYWJsZSB0aGUgaW5wdXQgZWxlbWVudCBzaW5jZSBmdXJ0aGVyIHBpY2tzIGFyZSBub3QgYWxsb3dlZC4KICBpbnB1dEVsZW1lbnQuZGlzYWJsZWQgPSB0cnVlOwoKICBpZiAoIWZpbGVzKSB7CiAgICByZXR1cm4gewogICAgICByZXNwb25zZTogewogICAgICAgIGFjdGlvbjogJ2NvbXBsZXRlJywKICAgICAgfQogICAgfTsKICB9CgogIGZvciAoY29uc3QgZmlsZSBvZiBmaWxlcykgewogICAgY29uc3QgbGkgPSBkb2N1bWVudC5jcmVhdGVFbGVtZW50KCdsaScpOwogICAgbGkuYXBwZW5kKHNwYW4oZmlsZS5uYW1lLCB7Zm9udFdlaWdodDogJ2JvbGQnfSkpOwogICAgbGkuYXBwZW5kKHNwYW4oCiAgICAgICAgYCgke2ZpbGUudHlwZSB8fCAnbi9hJ30pIC0gJHtmaWxlLnNpemV9IGJ5dGVzLCBgICsKICAgICAgICBgbGFzdCBtb2RpZmllZDogJHsKICAgICAgICAgICAgZmlsZS5sYXN0TW9kaWZpZWREYXRlID8gZmlsZS5sYXN0TW9kaWZpZWREYXRlLnRvTG9jYWxlRGF0ZVN0cmluZygpIDoKICAgICAgICAgICAgICAgICAgICAgICAgICAgICAgICAgICAgJ24vYSd9IC0gYCkpOwogICAgY29uc3QgcGVyY2VudCA9IHNwYW4oJzAlIGRvbmUnKTsKICAgIGxpLmFwcGVuZENoaWxkKHBlcmNlbnQpOwoKICAgIG91dHB1dEVsZW1lbnQuYXBwZW5kQ2hpbGQobGkpOwoKICAgIGNvbnN0IGZpbGVEYXRhUHJvbWlzZSA9IG5ldyBQcm9taXNlKChyZXNvbHZlKSA9PiB7CiAgICAgIGNvbnN0IHJlYWRlciA9IG5ldyBGaWxlUmVhZGVyKCk7CiAgICAgIHJlYWRlci5vbmxvYWQgPSAoZSkgPT4gewogICAgICAgIHJlc29sdmUoZS50YXJnZXQucmVzdWx0KTsKICAgICAgfTsKICAgICAgcmVhZGVyLnJlYWRBc0FycmF5QnVmZmVyKGZpbGUpOwogICAgfSk7CiAgICAvLyBXYWl0IGZvciB0aGUgZGF0YSB0byBiZSByZWFkeS4KICAgIGxldCBmaWxlRGF0YSA9IHlpZWxkIHsKICAgICAgcHJvbWlzZTogZmlsZURhdGFQcm9taXNlLAogICAgICByZXNwb25zZTogewogICAgICAgIGFjdGlvbjogJ2NvbnRpbnVlJywKICAgICAgfQogICAgfTsKCiAgICAvLyBVc2UgYSBjaHVua2VkIHNlbmRpbmcgdG8gYXZvaWQgbWVzc2FnZSBzaXplIGxpbWl0cy4gU2VlIGIvNjIxMTU2NjAuCiAgICBsZXQgcG9zaXRpb24gPSAwOwogICAgd2hpbGUgKHBvc2l0aW9uIDwgZmlsZURhdGEuYnl0ZUxlbmd0aCkgewogICAgICBjb25zdCBsZW5ndGggPSBNYXRoLm1pbihmaWxlRGF0YS5ieXRlTGVuZ3RoIC0gcG9zaXRpb24sIE1BWF9QQVlMT0FEX1NJWkUpOwogICAgICBjb25zdCBjaHVuayA9IG5ldyBVaW50OEFycmF5KGZpbGVEYXRhLCBwb3NpdGlvbiwgbGVuZ3RoKTsKICAgICAgcG9zaXRpb24gKz0gbGVuZ3RoOwoKICAgICAgY29uc3QgYmFzZTY0ID0gYnRvYShTdHJpbmcuZnJvbUNoYXJDb2RlLmFwcGx5KG51bGwsIGNodW5rKSk7CiAgICAgIHlpZWxkIHsKICAgICAgICByZXNwb25zZTogewogICAgICAgICAgYWN0aW9uOiAnYXBwZW5kJywKICAgICAgICAgIGZpbGU6IGZpbGUubmFtZSwKICAgICAgICAgIGRhdGE6IGJhc2U2NCwKICAgICAgICB9LAogICAgICB9OwogICAgICBwZXJjZW50LnRleHRDb250ZW50ID0KICAgICAgICAgIGAke01hdGgucm91bmQoKHBvc2l0aW9uIC8gZmlsZURhdGEuYnl0ZUxlbmd0aCkgKiAxMDApfSUgZG9uZWA7CiAgICB9CiAgfQoKICAvLyBBbGwgZG9uZS4KICB5aWVsZCB7CiAgICByZXNwb25zZTogewogICAgICBhY3Rpb246ICdjb21wbGV0ZScsCiAgICB9CiAgfTsKfQoKc2NvcGUuZ29vZ2xlID0gc2NvcGUuZ29vZ2xlIHx8IHt9OwpzY29wZS5nb29nbGUuY29sYWIgPSBzY29wZS5nb29nbGUuY29sYWIgfHwge307CnNjb3BlLmdvb2dsZS5jb2xhYi5fZmlsZXMgPSB7CiAgX3VwbG9hZEZpbGVzLAogIF91cGxvYWRGaWxlc0NvbnRpbnVlLAp9Owp9KShzZWxmKTsK",
              "ok": true,
              "headers": [
                [
                  "content-type",
                  "application/javascript"
                ]
              ],
              "status": 200,
              "status_text": ""
            }
          },
          "base_uri": "https://localhost:8080/",
          "height": 73
        },
        "id": "ul1Iy5ivVEMQ",
        "outputId": "055384c3-48e3-490d-a2d2-9891383c2eb1"
      },
      "source": [
        "from google.colab import files\n",
        "uploaded = files.upload()"
      ],
      "execution_count": 3,
      "outputs": [
        {
          "output_type": "display_data",
          "data": {
            "text/html": [
              "\n",
              "     <input type=\"file\" id=\"files-1fc4f6ce-0ba2-4184-98f8-e96592fbc847\" name=\"files[]\" multiple disabled\n",
              "        style=\"border:none\" />\n",
              "     <output id=\"result-1fc4f6ce-0ba2-4184-98f8-e96592fbc847\">\n",
              "      Upload widget is only available when the cell has been executed in the\n",
              "      current browser session. Please rerun this cell to enable.\n",
              "      </output>\n",
              "      <script src=\"/nbextensions/google.colab/files.js\"></script> "
            ],
            "text/plain": [
              "<IPython.core.display.HTML object>"
            ]
          },
          "metadata": {
            "tags": []
          }
        },
        {
          "output_type": "stream",
          "text": [
            "Saving melb_data.csv to melb_data.csv\n"
          ],
          "name": "stdout"
        }
      ]
    },
    {
      "cell_type": "code",
      "metadata": {
        "colab": {
          "base_uri": "https://localhost:8080/",
          "height": 338
        },
        "id": "unuLafiDVURG",
        "outputId": "59d3fa1b-7299-4e3c-ee5e-8d244f27b37b"
      },
      "source": [
        "#inisiasi data\n",
        "data = pd.read_csv('melb_data.csv')\n",
        "data.head()"
      ],
      "execution_count": 14,
      "outputs": [
        {
          "output_type": "execute_result",
          "data": {
            "text/html": [
              "<div>\n",
              "<style scoped>\n",
              "    .dataframe tbody tr th:only-of-type {\n",
              "        vertical-align: middle;\n",
              "    }\n",
              "\n",
              "    .dataframe tbody tr th {\n",
              "        vertical-align: top;\n",
              "    }\n",
              "\n",
              "    .dataframe thead th {\n",
              "        text-align: right;\n",
              "    }\n",
              "</style>\n",
              "<table border=\"1\" class=\"dataframe\">\n",
              "  <thead>\n",
              "    <tr style=\"text-align: right;\">\n",
              "      <th></th>\n",
              "      <th>Suburb</th>\n",
              "      <th>Address</th>\n",
              "      <th>Rooms</th>\n",
              "      <th>Type</th>\n",
              "      <th>Price</th>\n",
              "      <th>Method</th>\n",
              "      <th>SellerG</th>\n",
              "      <th>Date</th>\n",
              "      <th>Distance</th>\n",
              "      <th>Postcode</th>\n",
              "      <th>Bedroom2</th>\n",
              "      <th>Bathroom</th>\n",
              "      <th>Car</th>\n",
              "      <th>Landsize</th>\n",
              "      <th>BuildingArea</th>\n",
              "      <th>YearBuilt</th>\n",
              "      <th>CouncilArea</th>\n",
              "      <th>Lattitude</th>\n",
              "      <th>Longtitude</th>\n",
              "      <th>Regionname</th>\n",
              "      <th>Propertycount</th>\n",
              "    </tr>\n",
              "  </thead>\n",
              "  <tbody>\n",
              "    <tr>\n",
              "      <th>0</th>\n",
              "      <td>Abbotsford</td>\n",
              "      <td>85 Turner St</td>\n",
              "      <td>2</td>\n",
              "      <td>h</td>\n",
              "      <td>1480000.0</td>\n",
              "      <td>S</td>\n",
              "      <td>Biggin</td>\n",
              "      <td>3/12/2016</td>\n",
              "      <td>2.5</td>\n",
              "      <td>3067.0</td>\n",
              "      <td>2.0</td>\n",
              "      <td>1.0</td>\n",
              "      <td>1.0</td>\n",
              "      <td>202.0</td>\n",
              "      <td>NaN</td>\n",
              "      <td>NaN</td>\n",
              "      <td>Yarra</td>\n",
              "      <td>-37.7996</td>\n",
              "      <td>144.9984</td>\n",
              "      <td>Northern Metropolitan</td>\n",
              "      <td>4019.0</td>\n",
              "    </tr>\n",
              "    <tr>\n",
              "      <th>1</th>\n",
              "      <td>Abbotsford</td>\n",
              "      <td>25 Bloomburg St</td>\n",
              "      <td>2</td>\n",
              "      <td>h</td>\n",
              "      <td>1035000.0</td>\n",
              "      <td>S</td>\n",
              "      <td>Biggin</td>\n",
              "      <td>4/02/2016</td>\n",
              "      <td>2.5</td>\n",
              "      <td>3067.0</td>\n",
              "      <td>2.0</td>\n",
              "      <td>1.0</td>\n",
              "      <td>0.0</td>\n",
              "      <td>156.0</td>\n",
              "      <td>79.0</td>\n",
              "      <td>1900.0</td>\n",
              "      <td>Yarra</td>\n",
              "      <td>-37.8079</td>\n",
              "      <td>144.9934</td>\n",
              "      <td>Northern Metropolitan</td>\n",
              "      <td>4019.0</td>\n",
              "    </tr>\n",
              "    <tr>\n",
              "      <th>2</th>\n",
              "      <td>Abbotsford</td>\n",
              "      <td>5 Charles St</td>\n",
              "      <td>3</td>\n",
              "      <td>h</td>\n",
              "      <td>1465000.0</td>\n",
              "      <td>SP</td>\n",
              "      <td>Biggin</td>\n",
              "      <td>4/03/2017</td>\n",
              "      <td>2.5</td>\n",
              "      <td>3067.0</td>\n",
              "      <td>3.0</td>\n",
              "      <td>2.0</td>\n",
              "      <td>0.0</td>\n",
              "      <td>134.0</td>\n",
              "      <td>150.0</td>\n",
              "      <td>1900.0</td>\n",
              "      <td>Yarra</td>\n",
              "      <td>-37.8093</td>\n",
              "      <td>144.9944</td>\n",
              "      <td>Northern Metropolitan</td>\n",
              "      <td>4019.0</td>\n",
              "    </tr>\n",
              "    <tr>\n",
              "      <th>3</th>\n",
              "      <td>Abbotsford</td>\n",
              "      <td>40 Federation La</td>\n",
              "      <td>3</td>\n",
              "      <td>h</td>\n",
              "      <td>850000.0</td>\n",
              "      <td>PI</td>\n",
              "      <td>Biggin</td>\n",
              "      <td>4/03/2017</td>\n",
              "      <td>2.5</td>\n",
              "      <td>3067.0</td>\n",
              "      <td>3.0</td>\n",
              "      <td>2.0</td>\n",
              "      <td>1.0</td>\n",
              "      <td>94.0</td>\n",
              "      <td>NaN</td>\n",
              "      <td>NaN</td>\n",
              "      <td>Yarra</td>\n",
              "      <td>-37.7969</td>\n",
              "      <td>144.9969</td>\n",
              "      <td>Northern Metropolitan</td>\n",
              "      <td>4019.0</td>\n",
              "    </tr>\n",
              "    <tr>\n",
              "      <th>4</th>\n",
              "      <td>Abbotsford</td>\n",
              "      <td>55a Park St</td>\n",
              "      <td>4</td>\n",
              "      <td>h</td>\n",
              "      <td>1600000.0</td>\n",
              "      <td>VB</td>\n",
              "      <td>Nelson</td>\n",
              "      <td>4/06/2016</td>\n",
              "      <td>2.5</td>\n",
              "      <td>3067.0</td>\n",
              "      <td>3.0</td>\n",
              "      <td>1.0</td>\n",
              "      <td>2.0</td>\n",
              "      <td>120.0</td>\n",
              "      <td>142.0</td>\n",
              "      <td>2014.0</td>\n",
              "      <td>Yarra</td>\n",
              "      <td>-37.8072</td>\n",
              "      <td>144.9941</td>\n",
              "      <td>Northern Metropolitan</td>\n",
              "      <td>4019.0</td>\n",
              "    </tr>\n",
              "  </tbody>\n",
              "</table>\n",
              "</div>"
            ],
            "text/plain": [
              "       Suburb           Address  ...             Regionname Propertycount\n",
              "0  Abbotsford      85 Turner St  ...  Northern Metropolitan        4019.0\n",
              "1  Abbotsford   25 Bloomburg St  ...  Northern Metropolitan        4019.0\n",
              "2  Abbotsford      5 Charles St  ...  Northern Metropolitan        4019.0\n",
              "3  Abbotsford  40 Federation La  ...  Northern Metropolitan        4019.0\n",
              "4  Abbotsford       55a Park St  ...  Northern Metropolitan        4019.0\n",
              "\n",
              "[5 rows x 21 columns]"
            ]
          },
          "metadata": {
            "tags": []
          },
          "execution_count": 14
        }
      ]
    },
    {
      "cell_type": "code",
      "metadata": {
        "colab": {
          "base_uri": "https://localhost:8080/"
        },
        "id": "HzQPgyj9xGly",
        "outputId": "26c35ba6-fb17-4a6e-84b7-d3143fa3d414"
      },
      "source": [
        "df = data.dropna()\n",
        "df.isna().sum()"
      ],
      "execution_count": 155,
      "outputs": [
        {
          "output_type": "execute_result",
          "data": {
            "text/plain": [
              "Suburb           0\n",
              "Address          0\n",
              "Rooms            0\n",
              "Type             0\n",
              "Price            0\n",
              "Method           0\n",
              "SellerG          0\n",
              "Date             0\n",
              "Distance         0\n",
              "Postcode         0\n",
              "Bedroom2         0\n",
              "Bathroom         0\n",
              "Car              0\n",
              "Landsize         0\n",
              "BuildingArea     0\n",
              "YearBuilt        0\n",
              "CouncilArea      0\n",
              "Lattitude        0\n",
              "Longtitude       0\n",
              "Regionname       0\n",
              "Propertycount    0\n",
              "dtype: int64"
            ]
          },
          "metadata": {
            "tags": []
          },
          "execution_count": 155
        }
      ]
    },
    {
      "cell_type": "code",
      "metadata": {
        "colab": {
          "base_uri": "https://localhost:8080/"
        },
        "id": "bBvblsFoAMMp",
        "outputId": "f198d90c-417f-48b3-8dcf-7b06bbfe7ff7"
      },
      "source": [
        "df.info()"
      ],
      "execution_count": 202,
      "outputs": [
        {
          "output_type": "stream",
          "text": [
            "<class 'pandas.core.frame.DataFrame'>\n",
            "Int64Index: 6196 entries, 1 to 12212\n",
            "Data columns (total 21 columns):\n",
            " #   Column         Non-Null Count  Dtype  \n",
            "---  ------         --------------  -----  \n",
            " 0   Suburb         6196 non-null   object \n",
            " 1   Address        6196 non-null   object \n",
            " 2   Rooms          6196 non-null   int64  \n",
            " 3   Type           6196 non-null   object \n",
            " 4   Price          6196 non-null   float64\n",
            " 5   Method         6196 non-null   object \n",
            " 6   SellerG        6196 non-null   object \n",
            " 7   Date           6196 non-null   object \n",
            " 8   Distance       6196 non-null   float64\n",
            " 9   Postcode       6196 non-null   float64\n",
            " 10  Bedroom2       6196 non-null   float64\n",
            " 11  Bathroom       6196 non-null   float64\n",
            " 12  Car            6196 non-null   float64\n",
            " 13  Landsize       6196 non-null   float64\n",
            " 14  BuildingArea   6196 non-null   float64\n",
            " 15  YearBuilt      6196 non-null   float64\n",
            " 16  CouncilArea    6196 non-null   object \n",
            " 17  Lattitude      6196 non-null   float64\n",
            " 18  Longtitude     6196 non-null   float64\n",
            " 19  Regionname     6196 non-null   object \n",
            " 20  Propertycount  6196 non-null   float64\n",
            "dtypes: float64(12), int64(1), object(8)\n",
            "memory usage: 1.0+ MB\n"
          ],
          "name": "stdout"
        }
      ]
    },
    {
      "cell_type": "markdown",
      "metadata": {
        "id": "Z91oQz1dVegh"
      },
      "source": [
        "# 1.Untuk feature/column Landsize & Price, hitung dan beri penjelasan (insight) terkait:\n",
        "*   Titik Pusat Data (Central Tendency\n",
        "*   Persebaran Data (Dispersion)\n",
        "*   Distribusi Data (Distribution)"
      ]
    },
    {
      "cell_type": "markdown",
      "metadata": {
        "id": "yQCaqmY0WG9R"
      },
      "source": [
        "Landsize\n",
        "\n",
        "Berdasarkan analisa yang telah dilakukan diketahui bahwa rata-rata dari data landsize adalah sebesar 471.006 dengann nilai tengah 373 dan modus 0. Dikarenakan nilai median yang lebih kecil dari nilai rata-rata maka dapat disimpulkan bahwa data landsize memiliki karakteristik right skeweness. Hal ini juga dapat dilihat dari bentuk histogram yang landai ke arah kanan."
      ]
    },
    {
      "cell_type": "code",
      "metadata": {
        "colab": {
          "base_uri": "https://localhost:8080/",
          "height": 458
        },
        "id": "8o1T2molXce6",
        "outputId": "95885e84-e1c6-4f15-ea2e-f97101a6c1ff"
      },
      "source": [
        "#Analisa data untuk landsize\n",
        "print('Titik Pusat Data')\n",
        "df_land = df ['Landsize'].sort_values()\n",
        "df_land_desc = df_land.describe()\n",
        "df_land_desc.loc['mode'] = statistics.mode(df_land)\n",
        "print('Rata-rata Landsize = ',df_land_desc['mean'])\n",
        "print('Median Landsize = ',df_land_desc['50%'])\n",
        "df_land_mode_value = pd.DataFrame(df_land.value_counts())\n",
        "print('Modus Landsize = ',df_land_desc['mode'])\n",
        "print()\n",
        "print('Titik Persebaran Data')\n",
        "print('1st Quartile = ',df_land_desc['25%'])\n",
        "print('2nd Quartile = ',df_land_desc['50%'])\n",
        "print('3rd Quartile = ',df_land_desc['75%'])\n",
        "print()\n",
        "print('Distribusi data')\n",
        "fig,ax = plt.subplots()\n",
        "ax.hist(df['Landsize'],bins=100,color='blue')\n",
        "plt.show()"
      ],
      "execution_count": 163,
      "outputs": [
        {
          "output_type": "stream",
          "text": [
            "Titik Pusat Data\n",
            "Rata-rata Landsize =  471.00693996126535\n",
            "Median Landsize =  373.0\n",
            "Modus Landsize =  0.0\n",
            "\n",
            "Titik Persebaran Data\n",
            "1st Quartile =  152.0\n",
            "2nd Quartile =  373.0\n",
            "3rd Quartile =  628.0\n",
            "\n",
            "Distribusi data\n"
          ],
          "name": "stdout"
        },
        {
          "output_type": "display_data",
          "data": {
            "image/png": "[encoded data removed]",
            "text/plain": [
              "<Figure size 432x288 with 1 Axes>"
            ]
          },
          "metadata": {
            "tags": [],
            "needs_background": "light"
          }
        }
      ]
    },
    {
      "cell_type": "markdown",
      "metadata": {
        "id": "3tJSk0Fhbq-R"
      },
      "source": [
        "**Price**\n",
        "\n",
        "Berdasarkan analisa yang telah dilakukan diketahui bahwa rata-rata dari data price adalah sebesar 1,068,828.202 dengann nilai tengah 88,000 dan modus 60,000. Dikarenakan nilai median yang lebih kecil dari nilai rata-rata maka dapat disimpulkan bahwa data price memiliki karakteristik right skeweness. Hal ini juga dapat dilihat dari bentuk histogram yang landai ke arah kanan.  "
      ]
    },
    {
      "cell_type": "code",
      "metadata": {
        "colab": {
          "base_uri": "https://localhost:8080/",
          "height": 471
        },
        "id": "r-fzhrj4bru7",
        "outputId": "ce5067fb-a194-4887-b2ad-5b8e41d21a24"
      },
      "source": [
        "#Analisa data untuk price\n",
        "print('Titik Pusat Data')\n",
        "df_price = df ['Price'].sort_values()\n",
        "df_price_desc = df_price.describe()\n",
        "df_price_desc.loc['mode'] = statistics.mode(df_price)\n",
        "print('Rata-rata Price = ',df_price_desc['mean'])\n",
        "print('Median Price = ',df_price_desc['50%'])\n",
        "df_price_mode_value = pd.DataFrame(df_price.value_counts())\n",
        "print('Modus Price = ',df_price_desc['mode'])\n",
        "print()\n",
        "print('Titik Persebaran Data')\n",
        "print('1st Quartile = ',df_price_desc['25%'])\n",
        "print('2nd Quartile = ',df_price_desc['50%'])\n",
        "print('3rd Quartile = ',df_price_desc['75%'])\n",
        "print()\n",
        "print('Distribusi data')\n",
        "fig,ax = plt.subplots()\n",
        "ax.hist(df['Price'],bins=100,color='green')\n",
        "plt.show()"
      ],
      "execution_count": 165,
      "outputs": [
        {
          "output_type": "stream",
          "text": [
            "Titik Pusat Data\n",
            "Rata-rata Price =  1068828.202065849\n",
            "Median Price =  880000.0\n",
            "Modus Price =  600000.0\n",
            "\n",
            "Titik Persebaran Data\n",
            "1st Quartile =  620000.0\n",
            "2nd Quartile =  880000.0\n",
            "3rd Quartile =  1325000.0\n",
            "\n",
            "Distribusi data\n"
          ],
          "name": "stdout"
        },
        {
          "output_type": "display_data",
          "data": {
            "image/png": "[encoded data removed]",
            "text/plain": [
              "<Figure size 432x288 with 1 Axes>"
            ]
          },
          "metadata": {
            "tags": [],
            "needs_background": "light"
          }
        }
      ]
    },
    {
      "cell_type": "markdown",
      "metadata": {
        "id": "ixH7ce8WfYVi"
      },
      "source": [
        "# 2. Carilah data outlier dan beri penjelasan (insight) pada feature/column Distance ! Tambahkan plot untuk menampilkan adanya data outlier!"
      ]
    },
    {
      "cell_type": "code",
      "metadata": {
        "colab": {
          "base_uri": "https://localhost:8080/",
          "height": 497
        },
        "id": "Fjb7xjrIfZbZ",
        "outputId": "003b8e41-c99d-4bab-b693-7cdc87360913"
      },
      "source": [
        "q1 = df['Distance'].quantile(0.25)\n",
        "q3 = df['Distance'].quantile(0.75)\n",
        "iqr = q3 - q1\n",
        "lower = q1-(1.5*iqr)\n",
        "upper = q3+(1.5*iqr)\n",
        "outliers = df[(df['Distance']>upper) | (df['Distance']<lower)]\n",
        "print('Total data distance yang outliers untuk semua region sebanyak',outliers.Regionname.count(),'data')\n",
        "print()\n",
        "print('Region dengan data Distance yang outlier adalah:')\n",
        "print(outliers.Regionname.value_counts())\n",
        "df.boxplot(column ='Distance')\n",
        "plt.title('Boxplot Distance', size = 20)\n",
        "plt.ylabel('Value', size = 10)\n",
        "plt.show"
      ],
      "execution_count": 166,
      "outputs": [
        {
          "output_type": "stream",
          "text": [
            "Total data distance yang outliers untuk semua region sebanyak 204 data\n",
            "\n",
            "Region dengan data Distance yang outlier adalah:\n",
            "South-Eastern Metropolitan    85\n",
            "Eastern Metropolitan          45\n",
            "Eastern Victoria              23\n",
            "Northern Victoria             17\n",
            "Western Metropolitan          16\n",
            "Western Victoria              14\n",
            "Northern Metropolitan          4\n",
            "Name: Regionname, dtype: int64\n"
          ],
          "name": "stdout"
        },
        {
          "output_type": "execute_result",
          "data": {
            "text/plain": [
              "<function matplotlib.pyplot.show>"
            ]
          },
          "metadata": {
            "tags": []
          },
          "execution_count": 166
        },
        {
          "output_type": "display_data",
          "data": {
            "image/png": "[encoded data removed]",
            "text/plain": [
              "<Figure size 432x288 with 1 Axes>"
            ]
          },
          "metadata": {
            "tags": [],
            "needs_background": "light"
          }
        }
      ]
    },
    {
      "cell_type": "markdown",
      "metadata": {
        "id": "p7GNyfu5iZsk"
      },
      "source": [
        "Berdasarkan analisa yang dilakukan, diketahui bahwa terdapat 7 region dengan data distance yang outliers. Dengan kata lain, 7 region ini memiliki jarak yang cukup jauh dari CBD. Untuk masyarakat dengan tingkat mobilitas yang tinggi ke CBD, disarankan untuk membeli rumah di southern metropolitan. Hal ini dikarenakan hanya southern metropolitan yang tidak memiliki data outliers."
      ]
    },
    {
      "cell_type": "markdown",
      "metadata": {
        "id": "Zqqey2R8kEVq"
      },
      "source": [
        "# 3. Tampilkan distribusi (sebaran data) dalam bentuk plot yang tepat, untuk feature/column YearBuilt. Jelaskan insight apa yang Anda dapatkan di setiap plot tersebut!"
      ]
    },
    {
      "cell_type": "code",
      "metadata": {
        "colab": {
          "base_uri": "https://localhost:8080/",
          "height": 467
        },
        "id": "kmACwqphkjA9",
        "outputId": "cd3ac6ae-c020-4f05-9c9f-14ad45ef7b38"
      },
      "source": [
        "#Analisa Data\n",
        "count_rumah = df['YearBuilt'].value_counts()\n",
        "print(count_rumah.head())\n",
        "plt.style.use('seaborn')\n",
        "fig,ax =plt.subplots()\n",
        "ax.hist(df['YearBuilt'],bins=100,color='blue')\n",
        "plt.title('Histogram Year Built')\n",
        "plt.show()"
      ],
      "execution_count": 232,
      "outputs": [
        {
          "output_type": "stream",
          "text": [
            "1970.0    602\n",
            "1960.0    552\n",
            "1950.0    455\n",
            "1900.0    270\n",
            "1930.0    232\n",
            "Name: YearBuilt, dtype: int64\n"
          ],
          "name": "stdout"
        },
        {
          "output_type": "display_data",
          "data": {
            "image/png": "[encoded data removed]",
            "text/plain": [
              "<Figure size 576x396 with 1 Axes>"
            ]
          },
          "metadata": {
            "tags": []
          }
        }
      ]
    },
    {
      "cell_type": "markdown",
      "metadata": {
        "id": "8KSEbRitp_wY"
      },
      "source": [
        "Berdasarkan pengolahan data yang telah dilakukan, diketahui bahwa pada tahun 1970 banyak rumah yang sudah selesai dibangun. "
      ]
    },
    {
      "cell_type": "markdown",
      "metadata": {
        "id": "C7nZ4-OZq8O5"
      },
      "source": [
        "# 4. Tampilkan perkembangan rata-rata harga (Price) rumah berdasarkan tahun pembangunan rumah (Year) menggunakan plot yang tepat! Jelaskan (insight) perkembangan rata-rata harga rumah dari plot yang Anda buat!"
      ]
    },
    {
      "cell_type": "code",
      "metadata": {
        "colab": {
          "base_uri": "https://localhost:8080/",
          "height": 479
        },
        "id": "VpuSVXCtrR9u",
        "outputId": "f2e3b373-2d79-4434-eb03-1a3b082bf39e"
      },
      "source": [
        "print(df[['YearBuilt','Price']].loc[df['Price']== df['Price'].max()])\n",
        "print(df[['YearBuilt','Price']].loc[df['Price']== df['Price'].min()])\n",
        "plt.figure(figsize = (8,6))\n",
        "sns.lineplot(x = df['YearBuilt'], y = df['Price'])\n",
        "plt.title('Perkembangan Price dari tahun ke tahun',size = 20)\n",
        "plt.show()"
      ],
      "execution_count": 241,
      "outputs": [
        {
          "output_type": "stream",
          "text": [
            "       YearBuilt      Price\n",
            "12094     1960.0  9000000.0\n",
            "      YearBuilt     Price\n",
            "1805     1920.0  131000.0\n"
          ],
          "name": "stdout"
        },
        {
          "output_type": "display_data",
          "data": {
            "image/png": "[encoded data removed]",
            "text/plain": [
              "<Figure size 576x432 with 1 Axes>"
            ]
          },
          "metadata": {
            "tags": []
          }
        }
      ]
    },
    {
      "cell_type": "markdown",
      "metadata": {
        "id": "h7_jVz-C3IQw"
      },
      "source": [
        "Berdasarkan pengolahan data yang telah dilakukan, dapat diketahui bahwa price dari tahun ketahun mengalami peningkatan serta penurunan. Harga rumah tertinggi yaitu sebesar 900,000 pada tahun 1960. Sedangkan, harga rumah terendah yaitu sebesar 131,000 pada tahun 1920. Dapat dilihat pada awal tahun 2000 harga rumah mulai mengalami penurunan yang cukup drastis. Peristiwa Y2K mungkin memiliki peran dalam penurunan harga rumah, kemampuan finansial yang berkurang menyebabkan para developer menurunkan harga rumah untuk meningkatkan daya beli."
      ]
    },
    {
      "cell_type": "markdown",
      "metadata": {
        "id": "hcPHNZGgvhgF"
      },
      "source": [
        "# 5. Di antara Landsize, Distance, & Rooms, manakah feature/column yang memiliki nilai korelasi tertinggi pada feature/column Price? Jelaskan metode korelasi apa yang Anda gunakan, serta apa insight untuk perusahaan setelah mengetahui nilai korelasi tersebut?"
      ]
    },
    {
      "cell_type": "code",
      "metadata": {
        "colab": {
          "base_uri": "https://localhost:8080/",
          "height": 610
        },
        "id": "CXOHll-LviJ3",
        "outputId": "8036803e-284a-4c9b-c4d9-b3dd1f738829"
      },
      "source": [
        "print(stats.normaltest(df['Price']))\n",
        "print(stats.normaltest(df['Landsize']))\n",
        "print(stats.normaltest(df['Distance']))\n",
        "print(stats.normaltest(df['Rooms']))\n",
        "corr_land,_ = spearmanr(df['Price'],df['Landsize'])\n",
        "corr_dist,_ = spearmanr(df['Price'],df['Distance'])\n",
        "corr_rooms,_ = spearmanr(df['Price'],df['Rooms'])\n",
        "print('Spearman correlation Price vs Landsize: %3f' %corr_land)\n",
        "print('Spearman correlation Price vs Distance: %3f' %corr_dist)\n",
        "print('Spearman correlation Price vs Rooms: %3f' %corr_rooms)\n",
        "plt.figure(figsize=(8,8))\n",
        "corr = df[['Price','Landsize','Distance','Rooms']].corr(method = 'spearman')\n",
        "sns.heatmap(corr*100, cmap=\"YlGn\", annot= True, fmt=\".0f\")\n",
        "plt.show()"
      ],
      "execution_count": 201,
      "outputs": [
        {
          "output_type": "stream",
          "text": [
            "NormaltestResult(statistic=3522.3809188140385, pvalue=0.0)\n",
            "NormaltestResult(statistic=13309.56639382275, pvalue=0.0)\n",
            "NormaltestResult(statistic=2376.577754887771, pvalue=0.0)\n",
            "NormaltestResult(statistic=139.54392596422878, pvalue=4.993688927652792e-31)\n",
            "Spearman correlation Price vs Landsize: 0.365473\n",
            "Spearman correlation Price vs Distance: -0.117274\n",
            "Spearman correlation Price vs Rooms: 0.591448\n"
          ],
          "name": "stdout"
        },
        {
          "output_type": "display_data",
          "data": {
            "image/png": "[encoded data removed]",
            "text/plain": [
              "<Figure size 576x576 with 2 Axes>"
            ]
          },
          "metadata": {
            "tags": []
          }
        }
      ]
    },
    {
      "cell_type": "markdown",
      "metadata": {
        "id": "dU3K7G_U730u"
      },
      "source": [
        "Berdasarkan pengolahan data yang sudah dilakukan diketahui bahwa data price,rooms,landsize dan rooms berdistribusi tidak normal. Oleh karena itu untuk menentukan korelasi antar variable akan menggunakan metode spearman. Diketahui bahwa korelasi terbesar adalah rooms dan price. Nilai korelasi kedua variable ini bernilai positif. Oleh karena itu dapat disimpulkan bahwa semakin banyak jumlah ruangan maka harga akan semakin tinggi. Melihat trend harga yang semakin turun selama 5 tahun terakhir, maka dapat diasumsikan jumlah ruangan yang ditawarkan pun tidak sebanyak tahun 1960an (dimana harga rumah sedang tinggi-tingginya). Oleh karena itu untuk meningkatkan minat konsumen, developer sebaiknya mendesign ruangan-ruangan yang bersifat modular. Meski jumlahnya sedikit namun dapat digunakan untuk berbagai aktivitas."
      ]
    },
    {
      "cell_type": "markdown",
      "metadata": {
        "id": "8pA13V3PCEeS"
      },
      "source": [
        "# 6. Temukan RegionName yang rata-rata harga (Price) propertinya paling tinggi, serta tampilkan RegionName dan rata-rata harga rumah dalam bentuk Barplot! Lalu, di region yang memiliki rata-rata harga properti tertinggi, carilah : "
      ]
    },
    {
      "cell_type": "markdown",
      "metadata": {
        "id": "hb1uu3JiCsB1"
      },
      "source": [
        "Barplot untuk Region Name vs Price"
      ]
    },
    {
      "cell_type": "code",
      "metadata": {
        "colab": {
          "base_uri": "https://localhost:8080/",
          "height": 788
        },
        "id": "W7__njEyC1h0",
        "outputId": "9db7ca2b-0a20-43f4-a927-5d171ab21698"
      },
      "source": [
        "df_mean = df[['Regionname','Price']].groupby(by='Regionname').mean().sort_values(by='Price',ascending=False)\n",
        "df_mean = df_mean.reset_index()\n",
        "print(df_mean)\n",
        "plt.figure(figsize=(10,8))\n",
        "sns.barplot(data=df_mean, x='Regionname',y='Price')\n",
        "plt.title('Barplot : Average Tip Everyday & Gender',size = 20)\n",
        "plt.grid(True)\n",
        "plt.xticks(rotation = 90)\n",
        "plt.show()"
      ],
      "execution_count": 215,
      "outputs": [
        {
          "output_type": "stream",
          "text": [
            "                   Regionname         Price\n",
            "0       Southern Metropolitan  1.378654e+06\n",
            "1        Eastern Metropolitan  1.110341e+06\n",
            "2  South-Eastern Metropolitan  9.304847e+05\n",
            "3       Northern Metropolitan  8.722635e+05\n",
            "4        Western Metropolitan  8.675011e+05\n",
            "5            Eastern Victoria  6.699992e+05\n",
            "6           Northern Victoria  5.568947e+05\n",
            "7            Western Victoria  3.910714e+05\n"
          ],
          "name": "stdout"
        },
        {
          "output_type": "display_data",
          "data": {
            "image/png": "[encoded data removed]",
            "text/plain": [
              "<Figure size 720x576 with 1 Axes>"
            ]
          },
          "metadata": {
            "tags": []
          }
        }
      ]
    },
    {
      "cell_type": "markdown",
      "metadata": {
        "id": "TeFKQdW-ChMe"
      },
      "source": [
        "Lima CouncilArea yang memiliki rata-rata harga rumah tertinggi"
      ]
    },
    {
      "cell_type": "code",
      "metadata": {
        "colab": {
          "base_uri": "https://localhost:8080/",
          "height": 230
        },
        "id": "N4VG55RUCl9j",
        "outputId": "20a61813-57f3-4eb3-d2df-0cadbb9207ec"
      },
      "source": [
        "df_mean_max = df[df['Regionname']=='Southern Metropolitan']\n",
        "df_max_council = df_mean_max[['CouncilArea','Price']].groupby(by='CouncilArea').mean().sort_values(by='Price',ascending=False)\n",
        "df_max_council.head(5)"
      ],
      "execution_count": 219,
      "outputs": [
        {
          "output_type": "execute_result",
          "data": {
            "text/html": [
              "<div>\n",
              "<style scoped>\n",
              "    .dataframe tbody tr th:only-of-type {\n",
              "        vertical-align: middle;\n",
              "    }\n",
              "\n",
              "    .dataframe tbody tr th {\n",
              "        vertical-align: top;\n",
              "    }\n",
              "\n",
              "    .dataframe thead th {\n",
              "        text-align: right;\n",
              "    }\n",
              "</style>\n",
              "<table border=\"1\" class=\"dataframe\">\n",
              "  <thead>\n",
              "    <tr style=\"text-align: right;\">\n",
              "      <th></th>\n",
              "      <th>Price</th>\n",
              "    </tr>\n",
              "    <tr>\n",
              "      <th>CouncilArea</th>\n",
              "      <th></th>\n",
              "    </tr>\n",
              "  </thead>\n",
              "  <tbody>\n",
              "    <tr>\n",
              "      <th>Boroondara</th>\n",
              "      <td>1.743578e+06</td>\n",
              "    </tr>\n",
              "    <tr>\n",
              "      <th>Bayside</th>\n",
              "      <td>1.701974e+06</td>\n",
              "    </tr>\n",
              "    <tr>\n",
              "      <th>Whitehorse</th>\n",
              "      <td>1.402118e+06</td>\n",
              "    </tr>\n",
              "    <tr>\n",
              "      <th>Stonnington</th>\n",
              "      <td>1.390313e+06</td>\n",
              "    </tr>\n",
              "    <tr>\n",
              "      <th>Port Phillip</th>\n",
              "      <td>1.142609e+06</td>\n",
              "    </tr>\n",
              "  </tbody>\n",
              "</table>\n",
              "</div>"
            ],
            "text/plain": [
              "                     Price\n",
              "CouncilArea               \n",
              "Boroondara    1.743578e+06\n",
              "Bayside       1.701974e+06\n",
              "Whitehorse    1.402118e+06\n",
              "Stonnington   1.390313e+06\n",
              "Port Phillip  1.142609e+06"
            ]
          },
          "metadata": {
            "tags": []
          },
          "execution_count": 219
        }
      ]
    },
    {
      "cell_type": "markdown",
      "metadata": {
        "id": "Vy6IDlIkFaoV"
      },
      "source": [
        "Tipe properti (Type) yang memiliki rata-rata harga rumah tertinggi!"
      ]
    },
    {
      "cell_type": "code",
      "metadata": {
        "colab": {
          "base_uri": "https://localhost:8080/",
          "height": 169
        },
        "id": "PtIExhGgFdKk",
        "outputId": "1dd5451d-2282-4755-fde1-c02f659bb3f4"
      },
      "source": [
        "df_max_type = df_mean_max[['Type','Price']].groupby(by='Type').mean().sort_values(by='Price',ascending=False)\n",
        "df_max_type"
      ],
      "execution_count": 223,
      "outputs": [
        {
          "output_type": "execute_result",
          "data": {
            "text/html": [
              "<div>\n",
              "<style scoped>\n",
              "    .dataframe tbody tr th:only-of-type {\n",
              "        vertical-align: middle;\n",
              "    }\n",
              "\n",
              "    .dataframe tbody tr th {\n",
              "        vertical-align: top;\n",
              "    }\n",
              "\n",
              "    .dataframe thead th {\n",
              "        text-align: right;\n",
              "    }\n",
              "</style>\n",
              "<table border=\"1\" class=\"dataframe\">\n",
              "  <thead>\n",
              "    <tr style=\"text-align: right;\">\n",
              "      <th></th>\n",
              "      <th>Price</th>\n",
              "    </tr>\n",
              "    <tr>\n",
              "      <th>Type</th>\n",
              "      <th></th>\n",
              "    </tr>\n",
              "  </thead>\n",
              "  <tbody>\n",
              "    <tr>\n",
              "      <th>h</th>\n",
              "      <td>1.861504e+06</td>\n",
              "    </tr>\n",
              "    <tr>\n",
              "      <th>t</th>\n",
              "      <td>1.160534e+06</td>\n",
              "    </tr>\n",
              "    <tr>\n",
              "      <th>u</th>\n",
              "      <td>6.447187e+05</td>\n",
              "    </tr>\n",
              "  </tbody>\n",
              "</table>\n",
              "</div>"
            ],
            "text/plain": [
              "             Price\n",
              "Type              \n",
              "h     1.861504e+06\n",
              "t     1.160534e+06\n",
              "u     6.447187e+05"
            ]
          },
          "metadata": {
            "tags": []
          },
          "execution_count": 223
        }
      ]
    },
    {
      "cell_type": "markdown",
      "metadata": {
        "id": "354PgzLzGdQu"
      },
      "source": [
        "Metode penjualan properti (Method) yang paling sering dilakukan!"
      ]
    },
    {
      "cell_type": "code",
      "metadata": {
        "colab": {
          "base_uri": "https://localhost:8080/"
        },
        "id": "R1fYUDMuGgvT",
        "outputId": "924cac85-0aa0-4d74-8411-72b6d68418fc"
      },
      "source": [
        "df_mode_method = df_mean_max['Method'].mode()\n",
        "df_mode_method"
      ],
      "execution_count": 225,
      "outputs": [
        {
          "output_type": "execute_result",
          "data": {
            "text/plain": [
              "0    S\n",
              "dtype: object"
            ]
          },
          "metadata": {
            "tags": []
          },
          "execution_count": 225
        }
      ]
    },
    {
      "cell_type": "markdown",
      "metadata": {
        "id": "vRIDVuW-HTBh"
      },
      "source": [
        "Berdasarkan pengolahan data yang dilakukan, diketahui bahwa rata-rata harga rumah paling tinggi terdapat di Southern Metropolitan. Berhubungan dengan poin nomor 2, Southern Mtropolitan memiliki jarak terdekat ke CBD. Hal ini merupakan salah satu nilai plus, sehingga developer memutuskan untuk memasang harga paling tinggi di daerah Southern Metropolitan.Apabila masyarakat ingin memiliki rumah di southern metropolitan namun memiliki keterbatasan biaya maka dapat memilih rumah dengan tipe U, unit/duplex"
      ]
    }
  ]
}